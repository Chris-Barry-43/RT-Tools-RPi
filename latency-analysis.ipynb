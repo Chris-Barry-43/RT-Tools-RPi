{
 "cells": [
  {
   "cell_type": "code",
   "execution_count": 2,
   "metadata": {},
   "outputs": [],
   "source": [
    "import os\n",
    "import pandas as pd\n",
    "import numpy as np\n",
    "import matplotlib.pyplot as plt\n",
    "\n",
    "DATA_CONTAINER = \"data/\""
   ]
  },
  {
   "cell_type": "code",
   "execution_count": 3,
   "metadata": {},
   "outputs": [],
   "source": [
    "def load_csv_data(file_name, data_container=DATA_CONTAINER):\n",
    "    csv_path = os.path.join(data_container, file_name)\n",
    "    return pd.read_csv(csv_path)\n",
    "\n",
    "def max_latency(core1_max, core2_max, core3_max, core4_max):\n",
    "    i1_max = 0\n",
    "    i2_max = 0\n",
    "    i3_max = 0\n",
    "    i4_max = 0\n",
    "    for i in range(len(core1_max)-1,0,-1):\n",
    "        if(core1_max[i] != 0):\n",
    "            i1_max = i\n",
    "            break\n",
    "    for i in range(len(core2_max)-1,0,-1):\n",
    "        if(core2_max[i] != 0):\n",
    "            i2_max = i\n",
    "            break\n",
    "    for i in range(len(core3_max)-1,0,-1):\n",
    "        if(core3_max[i] != 0):\n",
    "            i3_max = i\n",
    "            break\n",
    "    for i in range(len(core4_max)-1,0,-1):\n",
    "        if(core4_max[i] != 0):\n",
    "            i4_max = i\n",
    "            break\n",
    "    max_latency = np.max([i1_max, i2_max, i3_max, i4_max])\n",
    "    return max_latency"
   ]
  },
  {
   "cell_type": "code",
   "execution_count": 4,
   "metadata": {},
   "outputs": [],
   "source": [
    "latency_std = load_csv_data(file_name='histogram_stdkernel.csv')\n",
    "latency_rt = load_csv_data(file_name='histogram_rtkernel.csv')"
   ]
  },
  {
   "cell_type": "code",
   "execution_count": 5,
   "metadata": {},
   "outputs": [
    {
     "data": {
      "text/html": [
       "<div>\n",
       "<style scoped>\n",
       "    .dataframe tbody tr th:only-of-type {\n",
       "        vertical-align: middle;\n",
       "    }\n",
       "\n",
       "    .dataframe tbody tr th {\n",
       "        vertical-align: top;\n",
       "    }\n",
       "\n",
       "    .dataframe thead th {\n",
       "        text-align: right;\n",
       "    }\n",
       "</style>\n",
       "<table border=\"1\" class=\"dataframe\">\n",
       "  <thead>\n",
       "    <tr style=\"text-align: right;\">\n",
       "      <th></th>\n",
       "      <th>core1</th>\n",
       "      <th>core2</th>\n",
       "      <th>core3</th>\n",
       "      <th>core4</th>\n",
       "    </tr>\n",
       "    <tr>\n",
       "      <th>time</th>\n",
       "      <th></th>\n",
       "      <th></th>\n",
       "      <th></th>\n",
       "      <th></th>\n",
       "    </tr>\n",
       "  </thead>\n",
       "  <tbody>\n",
       "    <tr>\n",
       "      <th>0</th>\n",
       "      <td>0</td>\n",
       "      <td>0</td>\n",
       "      <td>0</td>\n",
       "      <td>0</td>\n",
       "    </tr>\n",
       "    <tr>\n",
       "      <th>1</th>\n",
       "      <td>0</td>\n",
       "      <td>0</td>\n",
       "      <td>0</td>\n",
       "      <td>0</td>\n",
       "    </tr>\n",
       "    <tr>\n",
       "      <th>2</th>\n",
       "      <td>0</td>\n",
       "      <td>0</td>\n",
       "      <td>0</td>\n",
       "      <td>0</td>\n",
       "    </tr>\n",
       "    <tr>\n",
       "      <th>3</th>\n",
       "      <td>0</td>\n",
       "      <td>0</td>\n",
       "      <td>0</td>\n",
       "      <td>0</td>\n",
       "    </tr>\n",
       "    <tr>\n",
       "      <th>4</th>\n",
       "      <td>0</td>\n",
       "      <td>0</td>\n",
       "      <td>0</td>\n",
       "      <td>0</td>\n",
       "    </tr>\n",
       "  </tbody>\n",
       "</table>\n",
       "</div>"
      ],
      "text/plain": [
       "      core1  core2  core3  core4\n",
       "time                            \n",
       "0         0      0      0      0\n",
       "1         0      0      0      0\n",
       "2         0      0      0      0\n",
       "3         0      0      0      0\n",
       "4         0      0      0      0"
      ]
     },
     "execution_count": 5,
     "metadata": {},
     "output_type": "execute_result"
    }
   ],
   "source": [
    "latency_std = latency_std.set_index('time')\n",
    "latency_std.head()\n",
    "\n",
    "latency_rt = latency_rt.set_index('time')\n",
    "latency_rt.head()"
   ]
  },
  {
   "cell_type": "code",
   "execution_count": 6,
   "metadata": {},
   "outputs": [],
   "source": [
    "max_latency_std = max_latency(latency_std.core1.values,latency_std.core2.values,latency_std.core3.values,latency_std.core4.values)\n",
    "max_latency_rt = max_latency(latency_rt.core1.values,latency_rt.core2.values,latency_rt.core3.values,latency_rt.core4.values)"
   ]
  },
  {
   "cell_type": "code",
   "execution_count": 7,
   "metadata": {},
   "outputs": [
    {
     "data": {
      "image/png": "[encoded data removed]",
      "text/plain": [
       "<matplotlib.figure.Figure at 0x7f92e8812d68>"
      ]
     },
     "metadata": {},
     "output_type": "display_data"
    }
   ],
   "source": [
    "mnplt = 0\n",
    "mxplt = 400\n",
    "plt.semilogy(latency_std.index[mnplt:mxplt], latency_std.core1[mnplt:mxplt], 'r', label='core1')\n",
    "plt.semilogy(latency_std.index[mnplt:mxplt], latency_std.core2[mnplt:mxplt], 'b', label='core2')\n",
    "plt.semilogy(latency_std.index[mnplt:mxplt], latency_std.core3[mnplt:mxplt], 'g', label='core3')\n",
    "plt.semilogy(latency_std.index[mnplt:mxplt], latency_std.core4[mnplt:mxplt], 'k', label='core4')\n",
    "plt.title('Latency using Standard Raspbian Kernel (4.14.21-v7+)')\n",
    "plt.ylabel('Number of latency samples')\n",
    "plt.xlabel('Latency (us), max %i us' % max_latency_std)\n",
    "plt.legend()\n",
    "plt.grid(True)"
   ]
  },
  {
   "cell_type": "code",
   "execution_count": 8,
   "metadata": {},
   "outputs": [
    {
     "data": {
      "image/png": "[encoded data removed]",
      "text/plain": [
       "<matplotlib.figure.Figure at 0x7f92e871c240>"
      ]
     },
     "metadata": {},
     "output_type": "display_data"
    }
   ],
   "source": [
    "mnplt = 0\n",
    "mxplt = 400\n",
    "plt.semilogy(latency_rt.index[mnplt:mxplt], latency_rt.core1[mnplt:mxplt], 'r', label='core1')\n",
    "plt.semilogy(latency_rt.index[mnplt:mxplt], latency_rt.core2[mnplt:mxplt], 'b', label='core2')\n",
    "plt.semilogy(latency_rt.index[mnplt:mxplt], latency_rt.core3[mnplt:mxplt], 'g', label='core3')\n",
    "plt.semilogy(latency_rt.index[mnplt:mxplt], latency_rt.core4[mnplt:mxplt], 'k', label='core4')\n",
    "plt.title('Latency using RT-Preempt Raspbian Kernel (4.14.21-rt17-v7+)')\n",
    "plt.ylabel('Number of latency samples')\n",
    "plt.xlabel('Latency (us), max %i us' % max_latency_rt)\n",
    "plt.legend()\n",
    "plt.grid(True)"
   ]
  },
  {
   "cell_type": "code",
   "execution_count": 9,
   "metadata": {},
   "outputs": [
    {
     "data": {
      "text/html": [
       "<div>\n",
       "<style scoped>\n",
       "    .dataframe tbody tr th:only-of-type {\n",
       "        vertical-align: middle;\n",
       "    }\n",
       "\n",
       "    .dataframe tbody tr th {\n",
       "        vertical-align: top;\n",
       "    }\n",
       "\n",
       "    .dataframe thead th {\n",
       "        text-align: right;\n",
       "    }\n",
       "</style>\n",
       "<table border=\"1\" class=\"dataframe\">\n",
       "  <thead>\n",
       "    <tr style=\"text-align: right;\">\n",
       "      <th></th>\n",
       "      <th>core1</th>\n",
       "      <th>core2</th>\n",
       "      <th>core3</th>\n",
       "      <th>core4</th>\n",
       "    </tr>\n",
       "    <tr>\n",
       "      <th>time</th>\n",
       "      <th></th>\n",
       "      <th></th>\n",
       "      <th></th>\n",
       "      <th></th>\n",
       "    </tr>\n",
       "  </thead>\n",
       "  <tbody>\n",
       "    <tr>\n",
       "      <th>14</th>\n",
       "      <td>35629715</td>\n",
       "      <td>38742731</td>\n",
       "      <td>33340727</td>\n",
       "      <td>20840188</td>\n",
       "    </tr>\n",
       "    <tr>\n",
       "      <th>13</th>\n",
       "      <td>3745364</td>\n",
       "      <td>1701941</td>\n",
       "      <td>183762</td>\n",
       "      <td>25763448</td>\n",
       "    </tr>\n",
       "    <tr>\n",
       "      <th>11</th>\n",
       "      <td>3074569</td>\n",
       "      <td>1008067</td>\n",
       "      <td>3122924</td>\n",
       "      <td>904196</td>\n",
       "    </tr>\n",
       "    <tr>\n",
       "      <th>15</th>\n",
       "      <td>2673523</td>\n",
       "      <td>7365711</td>\n",
       "      <td>11855719</td>\n",
       "      <td>767844</td>\n",
       "    </tr>\n",
       "    <tr>\n",
       "      <th>16</th>\n",
       "      <td>1444207</td>\n",
       "      <td>537723</td>\n",
       "      <td>862131</td>\n",
       "      <td>87652</td>\n",
       "    </tr>\n",
       "  </tbody>\n",
       "</table>\n",
       "</div>"
      ],
      "text/plain": [
       "         core1     core2     core3     core4\n",
       "time                                        \n",
       "14    35629715  38742731  33340727  20840188\n",
       "13     3745364   1701941    183762  25763448\n",
       "11     3074569   1008067   3122924    904196\n",
       "15     2673523   7365711  11855719    767844\n",
       "16     1444207    537723    862131     87652"
      ]
     },
     "execution_count": 9,
     "metadata": {},
     "output_type": "execute_result"
    }
   ],
   "source": [
    "latency_std.sort_values('core1', ascending=False, inplace=False, kind='quicksort').head()"
   ]
  },
  {
   "cell_type": "code",
   "execution_count": 10,
   "metadata": {},
   "outputs": [
    {
     "data": {
      "text/html": [
       "<div>\n",
       "<style scoped>\n",
       "    .dataframe tbody tr th:only-of-type {\n",
       "        vertical-align: middle;\n",
       "    }\n",
       "\n",
       "    .dataframe tbody tr th {\n",
       "        vertical-align: top;\n",
       "    }\n",
       "\n",
       "    .dataframe thead th {\n",
       "        text-align: right;\n",
       "    }\n",
       "</style>\n",
       "<table border=\"1\" class=\"dataframe\">\n",
       "  <thead>\n",
       "    <tr style=\"text-align: right;\">\n",
       "      <th></th>\n",
       "      <th>core1</th>\n",
       "      <th>core2</th>\n",
       "      <th>core3</th>\n",
       "      <th>core4</th>\n",
       "    </tr>\n",
       "    <tr>\n",
       "      <th>time</th>\n",
       "      <th></th>\n",
       "      <th></th>\n",
       "      <th></th>\n",
       "      <th></th>\n",
       "    </tr>\n",
       "  </thead>\n",
       "  <tbody>\n",
       "    <tr>\n",
       "      <th>20</th>\n",
       "      <td>8371137</td>\n",
       "      <td>1854556</td>\n",
       "      <td>2909676</td>\n",
       "      <td>7969586</td>\n",
       "    </tr>\n",
       "    <tr>\n",
       "      <th>21</th>\n",
       "      <td>5162113</td>\n",
       "      <td>1129750</td>\n",
       "      <td>1003193</td>\n",
       "      <td>2192208</td>\n",
       "    </tr>\n",
       "    <tr>\n",
       "      <th>10</th>\n",
       "      <td>4938891</td>\n",
       "      <td>430211</td>\n",
       "      <td>317813</td>\n",
       "      <td>1329979</td>\n",
       "    </tr>\n",
       "    <tr>\n",
       "      <th>15</th>\n",
       "      <td>2410218</td>\n",
       "      <td>2830810</td>\n",
       "      <td>1195021</td>\n",
       "      <td>1855323</td>\n",
       "    </tr>\n",
       "    <tr>\n",
       "      <th>44</th>\n",
       "      <td>2144522</td>\n",
       "      <td>680</td>\n",
       "      <td>167294</td>\n",
       "      <td>17350</td>\n",
       "    </tr>\n",
       "  </tbody>\n",
       "</table>\n",
       "</div>"
      ],
      "text/plain": [
       "        core1    core2    core3    core4\n",
       "time                                    \n",
       "20    8371137  1854556  2909676  7969586\n",
       "21    5162113  1129750  1003193  2192208\n",
       "10    4938891   430211   317813  1329979\n",
       "15    2410218  2830810  1195021  1855323\n",
       "44    2144522      680   167294    17350"
      ]
     },
     "execution_count": 10,
     "metadata": {},
     "output_type": "execute_result"
    }
   ],
   "source": [
    "latency_rt.sort_values('core1', ascending=False, inplace=False, kind='quicksort').head()"
   ]
  }
 ],
 "metadata": {
  "kernelspec": {
   "display_name": "Python 3",
   "language": "python",
   "name": "python3"
  },
  "language_info": {
   "codemirror_mode": {
    "name": "ipython",
    "version": 3
   },
   "file_extension": ".py",
   "mimetype": "text/x-python",
   "name": "python",
   "nbconvert_exporter": "python",
   "pygments_lexer": "ipython3",
   "version": "3.5.2"
  }
 },
 "nbformat": 4,
 "nbformat_minor": 2
}
